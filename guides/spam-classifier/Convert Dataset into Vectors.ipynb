{
 "cells": [
  {
   "cell_type": "markdown",
   "id": "da987e6d",
   "metadata": {},
   "source": [
    "# Convert Dataset into Vectors\n",
    "The dataset we'll use combined 2 open source datasets curated by [The University of California, Irvine (UCI)](https://archive.ics.uci.edu). Learn how to [prepare this dataset here](https://github.com/codingforentrepreneurs/AI-Microservice-from-Scratch/blob/main/guides/Prepare%20the%20AI%20Spam%20Classifier%20Dataset.ipynb).\n",
    "\n",
    "#### Requirements\n",
    "- Python\n",
    "- Jupyter (Setup with [this video](https://www.youtube.com/watch?v=9tPS-7TWjq0))\n",
    "- Pandas\n",
    "- `scikit-learn` (aka `sklearn`)\n",
    "- Tensorflow"
   ]
  },
  {
   "cell_type": "markdown",
   "id": "44f07726",
   "metadata": {},
   "source": [
    "### Step 1: Load Dataset"
   ]
  },
  {
   "cell_type": "code",
   "execution_count": 1,
   "id": "0f13f1c5",
   "metadata": {},
   "outputs": [],
   "source": [
    "import pandas as pd\n",
    "import pathlib"
   ]
  },
  {
   "cell_type": "code",
   "execution_count": 2,
   "id": "4a2ba94f",
   "metadata": {},
   "outputs": [],
   "source": [
    "USE_PROJECT_ROOT = True\n",
    "BASE_DIR = pathlib.Path(\".\").resolve()\n",
    "if USE_PROJECT_ROOT:\n",
    "    BASE_DIR = BASE_DIR.parent.parent\n",
    "DATASET_DIR = BASE_DIR / \"datasets\"\n",
    "EXPORT_DIR = DATASET_DIR / \"exports\"\n",
    "DATASET_CSV_PATH = EXPORT_DIR / 'spam-dataset.csv'\n",
    "TRAINING_DATA_PATH = EXPORT_DIR / 'spam-training-data.pkl'"
   ]
  },
  {
   "cell_type": "code",
   "execution_count": 3,
   "id": "31753ea1",
   "metadata": {},
   "outputs": [],
   "source": [
    "RUN_DATASET_PREPARE = False\n",
    "if RUN_DATASET_PREPARE:\n",
    "    # if active, this will download and prepare the dataset.\n",
    "    SOURCE_NB = pathlib.Path('Prepare the AI Spam Classifier Dataset.ipynb')\n",
    "    if SOURCE_NB.exists():\n",
    "        %run './{SOURCE_NB}'\n",
    "    else:\n",
    "        print(\"Prepare the AI Spam Classifier Dataset.ipynb does not exist.\")"
   ]
  },
  {
   "cell_type": "code",
   "execution_count": 4,
   "id": "30dc469c",
   "metadata": {},
   "outputs": [],
   "source": [
    "if not DATASET_CSV_PATH.exists():\n",
    "    raise Exception(\"You must download or create the spam-dataset.csv\")"
   ]
  },
  {
   "cell_type": "code",
   "execution_count": 5,
   "id": "c5cbc08c",
   "metadata": {},
   "outputs": [
    {
     "data": {
      "text/html": [
       "<div>\n",
       "<style scoped>\n",
       "    .dataframe tbody tr th:only-of-type {\n",
       "        vertical-align: middle;\n",
       "    }\n",
       "\n",
       "    .dataframe tbody tr th {\n",
       "        vertical-align: top;\n",
       "    }\n",
       "\n",
       "    .dataframe thead th {\n",
       "        text-align: right;\n",
       "    }\n",
       "</style>\n",
       "<table border=\"1\" class=\"dataframe\">\n",
       "  <thead>\n",
       "    <tr style=\"text-align: right;\">\n",
       "      <th></th>\n",
       "      <th>label</th>\n",
       "      <th>text</th>\n",
       "      <th>source</th>\n",
       "    </tr>\n",
       "  </thead>\n",
       "  <tbody>\n",
       "    <tr>\n",
       "      <th>0</th>\n",
       "      <td>ham</td>\n",
       "      <td>Go until jurong point, crazy.. Available only ...</td>\n",
       "      <td>uci-spam-sms</td>\n",
       "    </tr>\n",
       "    <tr>\n",
       "      <th>1</th>\n",
       "      <td>ham</td>\n",
       "      <td>Ok lar... Joking wif u oni...</td>\n",
       "      <td>uci-spam-sms</td>\n",
       "    </tr>\n",
       "    <tr>\n",
       "      <th>2</th>\n",
       "      <td>spam</td>\n",
       "      <td>Free entry in 2 a wkly comp to win FA Cup fina...</td>\n",
       "      <td>uci-spam-sms</td>\n",
       "    </tr>\n",
       "    <tr>\n",
       "      <th>3</th>\n",
       "      <td>ham</td>\n",
       "      <td>U dun say so early hor... U c already then say...</td>\n",
       "      <td>uci-spam-sms</td>\n",
       "    </tr>\n",
       "    <tr>\n",
       "      <th>4</th>\n",
       "      <td>ham</td>\n",
       "      <td>Nah I don't think he goes to usf, he lives aro...</td>\n",
       "      <td>uci-spam-sms</td>\n",
       "    </tr>\n",
       "  </tbody>\n",
       "</table>\n",
       "</div>"
      ],
      "text/plain": [
       "  label                                               text        source\n",
       "0   ham  Go until jurong point, crazy.. Available only ...  uci-spam-sms\n",
       "1   ham                      Ok lar... Joking wif u oni...  uci-spam-sms\n",
       "2  spam  Free entry in 2 a wkly comp to win FA Cup fina...  uci-spam-sms\n",
       "3   ham  U dun say so early hor... U c already then say...  uci-spam-sms\n",
       "4   ham  Nah I don't think he goes to usf, he lives aro...  uci-spam-sms"
      ]
     },
     "execution_count": 5,
     "metadata": {},
     "output_type": "execute_result"
    }
   ],
   "source": [
    "df = pd.read_csv(str(DATASET_CSV_PATH))\n",
    "df.head()"
   ]
  },
  {
   "cell_type": "markdown",
   "id": "d185e6ab",
   "metadata": {},
   "source": [
    "### Step 2: Convert Dataset to Lists"
   ]
  },
  {
   "cell_type": "code",
   "execution_count": 6,
   "id": "92cfc820",
   "metadata": {},
   "outputs": [],
   "source": [
    "texts = df['text'].tolist()\n",
    "labels = df['label'].tolist()"
   ]
  },
  {
   "cell_type": "markdown",
   "id": "d7b1e329",
   "metadata": {},
   "source": [
    "Now we need to map our labels from being text values to being integer values. It's pretty simple:"
   ]
  },
  {
   "cell_type": "code",
   "execution_count": 7,
   "id": "d71b9abe",
   "metadata": {},
   "outputs": [],
   "source": [
    "labels_legend = {'ham': 0, 'spam': 1}\n",
    "labels_legend_inverted = {f\"{v}\":k for k,v in labels_legend.items()}"
   ]
  },
  {
   "cell_type": "markdown",
   "id": "6a55280b",
   "metadata": {},
   "source": [
    "The inverted legend is there to help us when we need to add a label to our predictions later.\n",
    "\n",
    "What's cool, is you can create this legend automatically with:\n",
    "\n",
    "```python\n",
    "legend = {f\"{x}\": i for i, x in enumerate(list(set(labels)))}\n",
    "legend_inverted = {f\"{v}\":k for k,v in legend.items()}\n",
    "```"
   ]
  },
  {
   "cell_type": "code",
   "execution_count": 8,
   "id": "59080545",
   "metadata": {},
   "outputs": [],
   "source": [
    "labels_as_int =  [labels_legend[str(x)] for x in labels]"
   ]
  },
  {
   "cell_type": "markdown",
   "id": "556925f9",
   "metadata": {},
   "source": [
    "__Verify the indices__\n",
    "\n",
    "It's important that our indices are still correct since this is the data we'll be using to train our model."
   ]
  },
  {
   "cell_type": "code",
   "execution_count": 9,
   "id": "7443f21d",
   "metadata": {},
   "outputs": [
    {
     "name": "stdout",
     "output_type": "stream",
     "text": [
      "Random Index 1403\n"
     ]
    }
   ],
   "source": [
    "import random\n",
    "random_idx = random.randint(0, len(texts))\n",
    "print('Random Index', random_idx)\n",
    "\n",
    "assert texts[random_idx] == df.iloc[random_idx].text\n",
    "assert labels[random_idx] == df.iloc[random_idx].label\n",
    "assert labels_legend_inverted[str(labels_as_int[random_idx])] == labels[random_idx]"
   ]
  },
  {
   "cell_type": "code",
   "execution_count": null,
   "id": "0d96752d",
   "metadata": {},
   "outputs": [],
   "source": []
  },
  {
   "cell_type": "markdown",
   "id": "e2a80363",
   "metadata": {},
   "source": [
    "### Step 3: Tokenize Texts\n",
    "\n",
    "The Keras Tokenizer will convert our raw text into vectors. Converting texts to vectors is a required step for any machine learning model (not just keras)."
   ]
  },
  {
   "cell_type": "code",
   "execution_count": 10,
   "id": "e9761d44",
   "metadata": {},
   "outputs": [],
   "source": [
    "from tensorflow.keras.preprocessing.text import Tokenizer"
   ]
  },
  {
   "cell_type": "code",
   "execution_count": 11,
   "id": "37bedba2",
   "metadata": {},
   "outputs": [],
   "source": [
    "MAX_NUM_WORDS=280"
   ]
  },
  {
   "cell_type": "markdown",
   "id": "569473cb",
   "metadata": {},
   "source": [
    "> `MAX_NUM_WORDS` is set to the current max length of any given post (tweet) on Twitter. This max number of words is likely to exceed *all* of our sms text size (typically 160 characters)."
   ]
  },
  {
   "cell_type": "code",
   "execution_count": 12,
   "id": "46cad3bf",
   "metadata": {},
   "outputs": [
    {
     "name": "stdout",
     "output_type": "stream",
     "text": [
      "Found 9538 unique tokens.\n"
     ]
    }
   ],
   "source": [
    "tokenizer = Tokenizer(num_words=MAX_NUM_WORDS)\n",
    "tokenizer.fit_on_texts(texts)\n",
    "sequences = tokenizer.texts_to_sequences(texts)\n",
    "word_index = tokenizer.word_index\n",
    "print('Found %s unique tokens.' % len(word_index))"
   ]
  },
  {
   "cell_type": "code",
   "execution_count": 13,
   "id": "98311145",
   "metadata": {},
   "outputs": [],
   "source": [
    "assert len(sequences) == len(texts) == len(labels_as_int)"
   ]
  },
  {
   "cell_type": "markdown",
   "id": "f6a1566c",
   "metadata": {},
   "source": [
    "### Step 4: Create `X`, `y` training sets\n",
    "\n",
    "In machine learning, it's common to denote the training inputs as `X` and their corresponding labels (the outputs) as `y`. \n",
    "\n",
    "Let's start with the `X` data (aka the text) by padding all of our tokenized sequences. This ensures all training inputs are the same shape (aka size). \n",
    "\n",
    "Each sentence in each paragraph in every conversation you have is rarely the same length. It is almost certainly *sometimes* the same length, but rarely all the time. With that in mind, we want to categorize every sentence (or paragraph) as either `spam` or `ham` -- an arbitrary length of data into known length of data. \n",
    "\n",
    "This means we have two challenges:\n",
    "- Matrix multiplication has strict rules\n",
    "- Spoken or written language rarely adheres to strict rules.\n",
    "\n",
    "What to do?\n",
    "\n",
    "`X` as new representation for the `text` from our raw dataset. As stated above, there's a very small chance that all data in this group is the exact same length so we'll use the built-in tool called `pad_sequences` to correct for the inconsistent length. This length is actually called shape because of it's roots in linear algebra (matrix multiplication)."
   ]
  },
  {
   "cell_type": "code",
   "execution_count": 14,
   "id": "eae72fd3",
   "metadata": {},
   "outputs": [],
   "source": [
    "from tensorflow.keras.preprocessing.sequence import pad_sequences\n",
    "\n",
    "MAX_SEQUENCE_LENGTH = 280\n",
    "\n",
    "X = pad_sequences(sequences, maxlen=MAX_SEQUENCE_LENGTH)"
   ]
  },
  {
   "cell_type": "markdown",
   "id": "851d2431",
   "metadata": {},
   "source": [
    "Now we covert our `labels_as_int` into a corresponding matrix value (instead of just a list of ints) by using the built-in `to_categorical` function. The number of labels does not have to be 2 (as we have) but it should be at least 2."
   ]
  },
  {
   "cell_type": "code",
   "execution_count": 15,
   "id": "cc6d2a90",
   "metadata": {},
   "outputs": [],
   "source": [
    "import numpy as np\n",
    "from tensorflow.keras.utils import to_categorical\n",
    "\n",
    "y = to_categorical(np.asarray(labels_as_int))"
   ]
  },
  {
   "cell_type": "markdown",
   "id": "72eb851f",
   "metadata": {},
   "source": [
    "### Step 5: Split our Training Data\n",
    "\n",
    "If we trained on all of our data, our model will fit very *well* to that training data but it will not perform well on new data; aka it will be mostly useless.\n",
    "\n",
    "Since we have the `X` and `y` designations, we split the data into at least 2 corresponding sets: training data and validation data for each designation resulting in `X_train`, `X_test`, `y_train`, `y_test`.\n",
    "\n",
    "An easy way (but not the only way) is to use `scikit-learn` for this:"
   ]
  },
  {
   "cell_type": "code",
   "execution_count": 16,
   "id": "3bc2fadc",
   "metadata": {},
   "outputs": [],
   "source": [
    "from sklearn.model_selection import train_test_split\n",
    "\n",
    "X_train, X_test, y_train, y_test = train_test_split(X, y, test_size=0.33, random_state=42)"
   ]
  },
  {
   "cell_type": "markdown",
   "id": "e0703925",
   "metadata": {},
   "source": [
    "As we'll see soon, the test sets (aka `X_test` and `y_test`) are used to evaluate how our AI model is learning (aka the performance). This means it's often a good idea to save the test sets for future training and not splitting the data all over again. Using the same test set over and over will show how our model is performing over time."
   ]
  },
  {
   "cell_type": "markdown",
   "id": "c3bd3dcd",
   "metadata": {},
   "source": [
    "### Step 6: Export our Training Data\n",
    "\n",
    "For this step, we'll use Python's built-in `pickle` module. Pickle is *not secure* so only open pickles that you create yourself. I am doing it as a way to pass data between jupyter notebooks."
   ]
  },
  {
   "cell_type": "code",
   "execution_count": 17,
   "id": "09da14e2",
   "metadata": {},
   "outputs": [],
   "source": [
    "import pickle"
   ]
  },
  {
   "cell_type": "code",
   "execution_count": 18,
   "id": "b0442c33",
   "metadata": {},
   "outputs": [],
   "source": [
    "training_data = {\n",
    "    'X_train': X_train,\n",
    "    'X_test': X_test,\n",
    "    'y_train': y_train,\n",
    "    'y_test': y_test,\n",
    "    'max_words': MAX_NUM_WORDS,\n",
    "    'max_sequence': MAX_SEQUENCE_LENGTH,\n",
    "    'legend': labels_legend,\n",
    "    'labels_legend_inverted': labels_legend_inverted\n",
    "}"
   ]
  },
  {
   "cell_type": "code",
   "execution_count": 19,
   "id": "60628d0a",
   "metadata": {},
   "outputs": [],
   "source": [
    "with open(TRAINING_DATA_PATH, 'wb') as f:\n",
    "    pickle.dump(training_data, f)"
   ]
  },
  {
   "cell_type": "code",
   "execution_count": 20,
   "id": "368db532",
   "metadata": {},
   "outputs": [],
   "source": [
    "data = {}\n",
    "\n",
    "with open(TRAINING_DATA_PATH, 'rb') as f:\n",
    "    data = pickle.load(f)"
   ]
  },
  {
   "cell_type": "code",
   "execution_count": null,
   "id": "5e6bc618",
   "metadata": {},
   "outputs": [],
   "source": []
  },
  {
   "cell_type": "code",
   "execution_count": null,
   "id": "ac32d3c0",
   "metadata": {},
   "outputs": [],
   "source": []
  }
 ],
 "metadata": {
  "kernelspec": {
   "display_name": "Python 3 (ipykernel)",
   "language": "python",
   "name": "python3"
  },
  "language_info": {
   "codemirror_mode": {
    "name": "ipython",
    "version": 3
   },
   "file_extension": ".py",
   "mimetype": "text/x-python",
   "name": "python",
   "nbconvert_exporter": "python",
   "pygments_lexer": "ipython3",
   "version": "3.9.7"
  }
 },
 "nbformat": 4,
 "nbformat_minor": 5
}
