{
 "cells": [
  {
   "cell_type": "markdown",
   "id": "056b9ff3",
   "metadata": {},
   "source": [
    "# Prepare the AI Spam Classifier Dataset\n",
    "We'll be combining 2 open source datasets curated by [The University of California, Irvine (UCI)](https://archive.ics.uci.edu):\n",
    "\n",
    "- Spam SMS ([source](https://archive.ics.uci.edu/ml/datasets/sms+spam+collection))\n",
    "- YouTube Spam ([source](https://archive.ics.uci.edu/ml/datasets/YouTube+Spam+Collection))\n",
    "\n",
    "\n",
    "#### Requirements\n",
    "- Python\n",
    "- Jupyter (Setup with [this video](https://www.youtube.com/watch?v=9tPS-7TWjq0))\n",
    "- Pandas"
   ]
  },
  {
   "cell_type": "markdown",
   "id": "f0d46040",
   "metadata": {},
   "source": [
    "### Step 1. Download Datasets\n",
    "\n",
    "#### Create destination folders"
   ]
  },
  {
   "cell_type": "code",
   "execution_count": 1,
   "id": "7abf2881",
   "metadata": {},
   "outputs": [],
   "source": [
    "import pathlib\n",
    "\n",
    "USE_PROJECT_ROOT = True\n",
    "BASE_DIR = pathlib.Path(\".\").resolve()\n",
    "if USE_PROJECT_ROOT:\n",
    "    BASE_DIR = BASE_DIR.parent\n",
    "DATASET_DIR = BASE_DIR / \"datasets\"\n",
    "ZIPS_DIR = DATASET_DIR / 'zips'\n",
    "EXPORT_DIR = DATASET_DIR / \"exports\"\n",
    "SMS_SPAM_DIR = DATASET_DIR / 'imports' / 'sms-spam'\n",
    "YOUTUBE_SPAM_DIR = DATASET_DIR / 'imports' / 'youtube-spam'"
   ]
  },
  {
   "cell_type": "code",
   "execution_count": 2,
   "id": "8e4151d4",
   "metadata": {},
   "outputs": [],
   "source": [
    "ZIPS_DIR.mkdir(exist_ok=True, parents=True)\n",
    "\n",
    "EXPORT_DIR.mkdir(exist_ok=True, parents=True)\n",
    "\n",
    "SMS_SPAM_DIR.mkdir(exist_ok=True, parents=True)\n",
    "\n",
    "YOUTUBE_SPAM_DIR.mkdir(exist_ok=True, parents=True)"
   ]
  },
  {
   "cell_type": "markdown",
   "id": "1b0bbcd8",
   "metadata": {},
   "source": [
    "You could also create the directories using:\n",
    "\n",
    "```\n",
    "!mkdir -p $DATASET_DIR/zips/\n",
    "!mkdir -p $SMS_SPAM_DIR\n",
    "!mkdir -p $YOUTUBE_SPAM_DIR\n",
    "!mkdir -p $EXPORT_DIR\n",
    "```"
   ]
  },
  {
   "cell_type": "markdown",
   "id": "d9d681c8",
   "metadata": {},
   "source": [
    "#### UCI Spam SMS\n",
    "Source: https://archive.ics.uci.edu/ml/datasets/sms+spam+collection"
   ]
  },
  {
   "cell_type": "code",
   "execution_count": 3,
   "id": "cd59f14a",
   "metadata": {},
   "outputs": [
    {
     "name": "stdout",
     "output_type": "stream",
     "text": [
      "  % Total    % Received % Xferd  Average Speed   Time    Time     Time  Current\n",
      "                                 Dload  Upload   Total   Spent    Left  Speed\n",
      "100  198k  100  198k    0     0   422k      0 --:--:-- --:--:-- --:--:--     0-:--:-- --:--:-- --:--:--  422k\n",
      "Archive:  /Users/cfe/Dev/ai-microservice/datasets/zips/uci-sms-spam.zip\n",
      "  inflating: /Users/cfe/Dev/ai-microservice/datasets/imports/sms-spam/SMSSpamCollection  \n",
      "  inflating: /Users/cfe/Dev/ai-microservice/datasets/imports/sms-spam/readme  \n"
     ]
    }
   ],
   "source": [
    "!curl https://archive.ics.uci.edu/ml/machine-learning-databases/00228/smsspamcollection.zip -o $ZIPS_DIR/uci-sms-spam.zip\n",
    "!unzip -o $ZIPS_DIR/uci-sms-spam.zip -d $SMS_SPAM_DIR"
   ]
  },
  {
   "cell_type": "markdown",
   "id": "e2d196aa",
   "metadata": {},
   "source": [
    "#### YouTube Spam\n",
    "Source: https://archive.ics.uci.edu/ml/datasets/YouTube+Spam+Collection"
   ]
  },
  {
   "cell_type": "code",
   "execution_count": 4,
   "id": "12759990",
   "metadata": {},
   "outputs": [
    {
     "name": "stdout",
     "output_type": "stream",
     "text": [
      "  % Total    % Received % Xferd  Average Speed   Time    Time     Time  Current\n",
      "                                 Dload  Upload   Total   Spent    Left  Speed\n",
      "100  159k  100  159k    0     0   359k      0 --:--:-- --:--:-- --:--:--  359k\n",
      "Archive:  /Users/cfe/Dev/ai-microservice/datasets/zips/uci-youtube-spam.zip\n",
      "  inflating: /Users/cfe/Dev/ai-microservice/datasets/imports/youtube-spam/Youtube01-Psy.csv  \n",
      "   creating: /Users/cfe/Dev/ai-microservice/datasets/imports/youtube-spam/__MACOSX/\n",
      "  inflating: /Users/cfe/Dev/ai-microservice/datasets/imports/youtube-spam/__MACOSX/._Youtube01-Psy.csv  \n",
      "  inflating: /Users/cfe/Dev/ai-microservice/datasets/imports/youtube-spam/Youtube02-KatyPerry.csv  \n",
      "  inflating: /Users/cfe/Dev/ai-microservice/datasets/imports/youtube-spam/__MACOSX/._Youtube02-KatyPerry.csv  \n",
      "  inflating: /Users/cfe/Dev/ai-microservice/datasets/imports/youtube-spam/Youtube03-LMFAO.csv  \n",
      "  inflating: /Users/cfe/Dev/ai-microservice/datasets/imports/youtube-spam/__MACOSX/._Youtube03-LMFAO.csv  \n",
      "  inflating: /Users/cfe/Dev/ai-microservice/datasets/imports/youtube-spam/Youtube04-Eminem.csv  \n",
      "  inflating: /Users/cfe/Dev/ai-microservice/datasets/imports/youtube-spam/__MACOSX/._Youtube04-Eminem.csv  \n",
      "  inflating: /Users/cfe/Dev/ai-microservice/datasets/imports/youtube-spam/Youtube05-Shakira.csv  \n",
      "  inflating: /Users/cfe/Dev/ai-microservice/datasets/imports/youtube-spam/__MACOSX/._Youtube05-Shakira.csv  \n"
     ]
    }
   ],
   "source": [
    "!curl https://archive.ics.uci.edu/ml/machine-learning-databases/00380/YouTube-Spam-Collection-v1.zip -o $ZIPS_DIR/uci-youtube-spam.zip\n",
    "!unzip -o $ZIPS_DIR/uci-youtube-spam.zip -d $YOUTUBE_SPAM_DIR"
   ]
  },
  {
   "cell_type": "markdown",
   "id": "8df14b7a",
   "metadata": {},
   "source": [
    "### Step 2. Load Datasets into a Pandas DataFrame"
   ]
  },
  {
   "cell_type": "code",
   "execution_count": 5,
   "id": "6046c799",
   "metadata": {},
   "outputs": [],
   "source": [
    "import pandas as pd"
   ]
  },
  {
   "cell_type": "markdown",
   "id": "4cfcd357",
   "metadata": {},
   "source": [
    "**Load the `sms-spam` dataset into a pandas dataframe**"
   ]
  },
  {
   "cell_type": "code",
   "execution_count": 6,
   "id": "5995d0eb",
   "metadata": {},
   "outputs": [],
   "source": [
    "sms_path = SMS_SPAM_DIR / 'SMSSpamCollection'\n",
    "sms_df = pd.read_csv(str(sms_path), sep='\\t', header=None)"
   ]
  },
  {
   "cell_type": "markdown",
   "id": "453c5d57",
   "metadata": {},
   "source": [
    "Now set the headers"
   ]
  },
  {
   "cell_type": "code",
   "execution_count": 7,
   "id": "5f7a3cd1",
   "metadata": {},
   "outputs": [],
   "source": [
    "sms_df.columns = ['label', 'text']\n",
    "sms_df['source'] = 'uci-spam-sms'"
   ]
  },
  {
   "cell_type": "markdown",
   "id": "5ad6bc36",
   "metadata": {},
   "source": [
    "**Load the `youtube-spam` datasets into a pandas dataframe**\n",
    "\n",
    "The youtube-spam dataset is stored across multiple csvs. Let's combine them into 1 big file."
   ]
  },
  {
   "cell_type": "code",
   "execution_count": 8,
   "id": "956ef79c",
   "metadata": {},
   "outputs": [],
   "source": [
    "location = YOUTUBE_SPAM_DIR\n",
    "csvs = list(location.glob(\"*.csv\"))"
   ]
  },
  {
   "cell_type": "code",
   "execution_count": 9,
   "id": "82e52f33",
   "metadata": {},
   "outputs": [],
   "source": [
    "new_dfs = []\n",
    "for csv in csvs:\n",
    "    csv_df = pd.read_csv(str(csvs[0]), usecols=['CLASS', 'CONTENT'])\n",
    "    csv_df.rename(columns={'CLASS': 'class', \"CONTENT\": 'text'}, inplace=True)\n",
    "    csv_df['label'] = csv_df['class'].apply(lambda x: \"spam\" if str(x) == \"1\" else \"ham\")\n",
    "    sub_df = csv_df.copy()[['label', 'text']] \n",
    "    new_dfs.append(sub_df)\n",
    "\n",
    "yt_df = pd.concat(new_dfs)\n",
    "yt_df['source'] = 'uci-youtube-spam'"
   ]
  },
  {
   "cell_type": "markdown",
   "id": "50af7b32",
   "metadata": {},
   "source": [
    "**Combine the `sms-spam` dataset and the `youtube-spam` dataset**"
   ]
  },
  {
   "cell_type": "code",
   "execution_count": 10,
   "id": "92f5f0b5",
   "metadata": {},
   "outputs": [],
   "source": [
    "df = pd.concat([sms_df, yt_df])"
   ]
  },
  {
   "cell_type": "markdown",
   "id": "937cab20",
   "metadata": {},
   "source": [
    "### Step 3. Export Complete Dataset"
   ]
  },
  {
   "cell_type": "code",
   "execution_count": 11,
   "id": "f02cbd72",
   "metadata": {},
   "outputs": [],
   "source": [
    "df.to_csv(EXPORT_DIR / 'spam-dataset.csv', index=False)"
   ]
  }
 ],
 "metadata": {
  "kernelspec": {
   "display_name": "Python 3 (ipykernel)",
   "language": "python",
   "name": "python3"
  },
  "language_info": {
   "codemirror_mode": {
    "name": "ipython",
    "version": 3
   },
   "file_extension": ".py",
   "mimetype": "text/x-python",
   "name": "python",
   "nbconvert_exporter": "python",
   "pygments_lexer": "ipython3",
   "version": "3.9.7"
  }
 },
 "nbformat": 4,
 "nbformat_minor": 5
}
